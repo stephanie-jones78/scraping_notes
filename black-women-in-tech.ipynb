{
 "cells": [
  {
   "cell_type": "markdown",
   "id": "4af7902a",
   "metadata": {},
   "source": [
    "from...\n",
    "# [The Future 10: Get To Know These 10 Black Women In Tech](https://www.essence.com/news/money-career/black-women-working-in-tech/)\n",
    "Essence Magazine Online, Nov 2018"
   ]
  },
  {
   "cell_type": "code",
   "execution_count": 1,
   "id": "9dfd73f5",
   "metadata": {},
   "outputs": [],
   "source": [
    "# importing libraries\n",
    "import requests\n",
    "import pandas as pd"
   ]
  },
  {
   "cell_type": "code",
   "execution_count": 2,
   "id": "738d4234",
   "metadata": {},
   "outputs": [],
   "source": [
    "# storing url\n",
    "url = 'https://www.essence.com/news/money-career/black-women-working-in-tech/'"
   ]
  },
  {
   "cell_type": "code",
   "execution_count": 4,
   "id": "95f9a2df",
   "metadata": {},
   "outputs": [],
   "source": [
    "# storing html\n",
    "html = requests.get(url).text"
   ]
  },
  {
   "cell_type": "code",
   "execution_count": 26,
   "id": "e01e12bc",
   "metadata": {},
   "outputs": [
    {
     "name": "stdout",
     "output_type": "stream",
     "text": [
      "\n",
      "<!-- static_get   key=\"403295\" group=\"content/full-freestar/040\" expires=\"Tue, 24 May 2022 08:00:43 +0000\" now=\"Tue, 24 May 2022 07:58:12 +0000\" -->\n",
      "\n",
      "<!doctype html>\n",
      "<html lang=\"en-US\">\n",
      "<head>\n",
      "\t<meta charset=\"UTF-8\"/><script type=\"text/javascript\">(window.NREUM||(NREUM={})).init={privacy:{cookies_enabled:true},ajax:{deny_list:[\"bam-cell.nr-data.net\"]}};(window.NREUM||(NREUM={})).loader_config={xpid:\"VgUHVl9RDBACV1NaAAAOX1U=\",licenseKey:\"e0dca8d6e4\",applicationID:\"232871991\"};window.NREUM||(NREUM={}),__nr_require=function(t,e,n){function r(n){if(!e[n]){var o=e[n]={exports:{}};t[n][0].call(o.exports,function(e){var o=t[n][1][e];return r(o||e)},o,o.exports)}return e[n].exports}if(\"function\"==typeof __nr_require)return __nr_require;for(var o=0;o<n.length;o++)r(n[o]);return r}({1:[function(t,e,n){function r(t){try{s.console&&console.log(t)}catch(e){}}var o,i=t(\"ee\"),a=t(31),s={};try{o=localStorage.getItem(\"__nr_flags\").split(\",\"),console&&\"function\"==typeof console.log&&(s.console=!0,o.ind\n"
     ]
    }
   ],
   "source": [
    "# looking at first 100 characters html\n",
    "print(html[:1000])"
   ]
  },
  {
   "cell_type": "code",
   "execution_count": 24,
   "id": "67c1e7cd",
   "metadata": {},
   "outputs": [
    {
     "data": {
      "text/plain": [
       "['',\n",
       " '<!-- static_get   key=\"403295\" group=\"content/full-freestar/040\" expires=\"Tue, 24 May 2022 08:00:43 +0000\" now=\"Tue, 24 May 2022 07:58:12 +0000\" -->',\n",
       " '',\n",
       " '<!doctype html>',\n",
       " '<html lang=\"en-US\">',\n",
       " '<head>']"
      ]
     },
     "execution_count": 24,
     "metadata": {},
     "output_type": "execute_result"
    }
   ],
   "source": [
    "# splitting html text into list of strings (looking at first few lines)\n",
    "html.split('\\n')[:6]"
   ]
  },
  {
   "cell_type": "code",
   "execution_count": 8,
   "id": "75a5ec6a",
   "metadata": {},
   "outputs": [
    {
     "name": "stdout",
     "output_type": "stream",
     "text": [
      "<strong>Kathryn Finney</strong>\r\n",
      "<strong>Regina Gwynn</strong>\r\n",
      "<strong>Camille Hearst</strong>\r\n",
      "<strong>Esosa Ighodaro</strong>\r\n",
      "<strong>Jasmine Lawrence</strong>\r\n",
      "<strong>Cierra McDonald</strong>\r\n",
      "<strong>Amanda Spann</strong>\r\n",
      "<strong>Kamilah Taylor</strong>\r\n",
      "<strong>Lauren Washington</strong>\r\n",
      "<strong>Tishauna Wilson</strong>\r\n"
     ]
    }
   ],
   "source": [
    "# targeting substring to get list of names\n",
    "for line in html.split('\\n'):\n",
    "    if 'strong' in line:\n",
    "        print(line)"
   ]
  },
  {
   "cell_type": "code",
   "execution_count": 9,
   "id": "7040b58e",
   "metadata": {},
   "outputs": [
    {
     "name": "stdout",
     "output_type": "stream",
     "text": [
      "Kathryn Finney\r\n",
      "Regina Gwynn\r\n",
      "Camille Hearst\r\n",
      "Esosa Ighodaro\r\n",
      "Jasmine Lawrence\r\n",
      "Cierra McDonald\r\n",
      "Amanda Spann\r\n",
      "Kamilah Taylor\r\n",
      "Lauren Washington\r\n",
      "Tishauna Wilson\r\n"
     ]
    }
   ],
   "source": [
    "# removing non-name text\n",
    "for line in html.split('\\n'):\n",
    "    if 'strong' in line:\n",
    "        print(line.replace('<strong>', '').replace('</strong>', ''))"
   ]
  },
  {
   "cell_type": "code",
   "execution_count": 10,
   "id": "783d88b0",
   "metadata": {},
   "outputs": [],
   "source": [
    "# saving names to text file\n",
    "with open('black-women-in-tech_names.txt', 'w') as write_names:\n",
    "    for line in html.split('\\n'):\n",
    "        if 'strong' in line:\n",
    "            #saving each names to list var\n",
    "            names = line.replace('<strong>', '').replace('</strong>', '')\n",
    "            \n",
    "            #adding each name to text file\n",
    "            write_names.write(names)\n",
    "            \n",
    "            #separating each name to its own line\n",
    "            write_names.write('\\n')"
   ]
  },
  {
   "cell_type": "code",
   "execution_count": 11,
   "id": "6d6fcea5",
   "metadata": {},
   "outputs": [
    {
     "data": {
      "text/html": [
       "<div>\n",
       "<style scoped>\n",
       "    .dataframe tbody tr th:only-of-type {\n",
       "        vertical-align: middle;\n",
       "    }\n",
       "\n",
       "    .dataframe tbody tr th {\n",
       "        vertical-align: top;\n",
       "    }\n",
       "\n",
       "    .dataframe thead th {\n",
       "        text-align: right;\n",
       "    }\n",
       "</style>\n",
       "<table border=\"1\" class=\"dataframe\">\n",
       "  <thead>\n",
       "    <tr style=\"text-align: right;\">\n",
       "      <th></th>\n",
       "      <th>Kathryn Finney</th>\n",
       "    </tr>\n",
       "  </thead>\n",
       "  <tbody>\n",
       "    <tr>\n",
       "      <th>0</th>\n",
       "      <td>Regina Gwynn</td>\n",
       "    </tr>\n",
       "    <tr>\n",
       "      <th>1</th>\n",
       "      <td>Camille Hearst</td>\n",
       "    </tr>\n",
       "    <tr>\n",
       "      <th>2</th>\n",
       "      <td>Esosa Ighodaro</td>\n",
       "    </tr>\n",
       "    <tr>\n",
       "      <th>3</th>\n",
       "      <td>Jasmine Lawrence</td>\n",
       "    </tr>\n",
       "    <tr>\n",
       "      <th>4</th>\n",
       "      <td>Cierra McDonald</td>\n",
       "    </tr>\n",
       "    <tr>\n",
       "      <th>5</th>\n",
       "      <td>Amanda Spann</td>\n",
       "    </tr>\n",
       "    <tr>\n",
       "      <th>6</th>\n",
       "      <td>Kamilah Taylor</td>\n",
       "    </tr>\n",
       "    <tr>\n",
       "      <th>7</th>\n",
       "      <td>Lauren Washington</td>\n",
       "    </tr>\n",
       "    <tr>\n",
       "      <th>8</th>\n",
       "      <td>Tishauna Wilson</td>\n",
       "    </tr>\n",
       "  </tbody>\n",
       "</table>\n",
       "</div>"
      ],
      "text/plain": [
       "      Kathryn Finney\n",
       "0       Regina Gwynn\n",
       "1     Camille Hearst\n",
       "2     Esosa Ighodaro\n",
       "3   Jasmine Lawrence\n",
       "4    Cierra McDonald\n",
       "5       Amanda Spann\n",
       "6     Kamilah Taylor\n",
       "7  Lauren Washington\n",
       "8    Tishauna Wilson"
      ]
     },
     "execution_count": 11,
     "metadata": {},
     "output_type": "execute_result"
    }
   ],
   "source": [
    "# verifying names added to file correctly by reading in text file to df\n",
    "pd.read_csv('black-women-in-tech_names.txt')"
   ]
  },
  {
   "cell_type": "code",
   "execution_count": null,
   "id": "69fd4605",
   "metadata": {},
   "outputs": [],
   "source": []
  }
 ],
 "metadata": {
  "kernelspec": {
   "display_name": "Python 3",
   "language": "python",
   "name": "python3"
  },
  "language_info": {
   "codemirror_mode": {
    "name": "ipython",
    "version": 3
   },
   "file_extension": ".py",
   "mimetype": "text/x-python",
   "name": "python",
   "nbconvert_exporter": "python",
   "pygments_lexer": "ipython3",
   "version": "3.8.8"
  }
 },
 "nbformat": 4,
 "nbformat_minor": 5
}
